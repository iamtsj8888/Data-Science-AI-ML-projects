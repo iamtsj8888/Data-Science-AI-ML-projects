{
  "nbformat": 4,
  "nbformat_minor": 0,
  "metadata": {
    "colab": {
      "provenance": []
    },
    "kernelspec": {
      "name": "python3",
      "display_name": "Python 3"
    },
    "language_info": {
      "name": "python"
    }
  },
  "cells": [
    {
      "cell_type": "code",
      "execution_count": 1,
      "metadata": {
        "id": "JjfH3aHRfApX"
      },
      "outputs": [],
      "source": [
        "import numpy as np\n",
        "import pandas as pd\n",
        "import seaborn as sns\n",
        "sns.set_style('whitegrid')\n",
        "import matplotlib.pyplot as plt\n",
        "plt.style.use(\"fivethirtyeight\")\n",
        "\n",
        "from keras.models import Sequential\n",
        "from keras.callbacks import EarlyStopping\n",
        "from keras.layers import Dense, LSTM, Dropout\n",
        "\n",
        "from sklearn.preprocessing import MinMaxScaler\n"
      ]
    },
    {
      "cell_type": "code",
      "source": [
        "df = pd.read_csv('/content/gold_price_data.csv')"
      ],
      "metadata": {
        "id": "-CZSYC2tfJHK"
      },
      "execution_count": 2,
      "outputs": []
    },
    {
      "cell_type": "code",
      "source": [
        "df.head()"
      ],
      "metadata": {
        "colab": {
          "base_uri": "https://localhost:8080/",
          "height": 206
        },
        "id": "P6bTaYhVfiMK",
        "outputId": "c684b666-5a6a-40b2-8a26-4303cf949ca9"
      },
      "execution_count": 3,
      "outputs": [
        {
          "output_type": "execute_result",
          "data": {
            "text/plain": [
              "         Date  Value\n",
              "0  1970-01-01   35.2\n",
              "1  1970-04-01   35.1\n",
              "2  1970-07-01   35.4\n",
              "3  1970-10-01   36.2\n",
              "4  1971-01-01   37.4"
            ],
            "text/html": [
              "\n",
              "  <div id=\"df-eaed007e-911f-430f-b580-25b45006d4b1\" class=\"colab-df-container\">\n",
              "    <div>\n",
              "<style scoped>\n",
              "    .dataframe tbody tr th:only-of-type {\n",
              "        vertical-align: middle;\n",
              "    }\n",
              "\n",
              "    .dataframe tbody tr th {\n",
              "        vertical-align: top;\n",
              "    }\n",
              "\n",
              "    .dataframe thead th {\n",
              "        text-align: right;\n",
              "    }\n",
              "</style>\n",
              "<table border=\"1\" class=\"dataframe\">\n",
              "  <thead>\n",
              "    <tr style=\"text-align: right;\">\n",
              "      <th></th>\n",
              "      <th>Date</th>\n",
              "      <th>Value</th>\n",
              "    </tr>\n",
              "  </thead>\n",
              "  <tbody>\n",
              "    <tr>\n",
              "      <th>0</th>\n",
              "      <td>1970-01-01</td>\n",
              "      <td>35.2</td>\n",
              "    </tr>\n",
              "    <tr>\n",
              "      <th>1</th>\n",
              "      <td>1970-04-01</td>\n",
              "      <td>35.1</td>\n",
              "    </tr>\n",
              "    <tr>\n",
              "      <th>2</th>\n",
              "      <td>1970-07-01</td>\n",
              "      <td>35.4</td>\n",
              "    </tr>\n",
              "    <tr>\n",
              "      <th>3</th>\n",
              "      <td>1970-10-01</td>\n",
              "      <td>36.2</td>\n",
              "    </tr>\n",
              "    <tr>\n",
              "      <th>4</th>\n",
              "      <td>1971-01-01</td>\n",
              "      <td>37.4</td>\n",
              "    </tr>\n",
              "  </tbody>\n",
              "</table>\n",
              "</div>\n",
              "    <div class=\"colab-df-buttons\">\n",
              "\n",
              "  <div class=\"colab-df-container\">\n",
              "    <button class=\"colab-df-convert\" onclick=\"convertToInteractive('df-eaed007e-911f-430f-b580-25b45006d4b1')\"\n",
              "            title=\"Convert this dataframe to an interactive table.\"\n",
              "            style=\"display:none;\">\n",
              "\n",
              "  <svg xmlns=\"http://www.w3.org/2000/svg\" height=\"24px\" viewBox=\"0 -960 960 960\">\n",
              "    <path d=\"M120-120v-720h720v720H120Zm60-500h600v-160H180v160Zm220 220h160v-160H400v160Zm0 220h160v-160H400v160ZM180-400h160v-160H180v160Zm440 0h160v-160H620v160ZM180-180h160v-160H180v160Zm440 0h160v-160H620v160Z\"/>\n",
              "  </svg>\n",
              "    </button>\n",
              "\n",
              "  <style>\n",
              "    .colab-df-container {\n",
              "      display:flex;\n",
              "      gap: 12px;\n",
              "    }\n",
              "\n",
              "    .colab-df-convert {\n",
              "      background-color: #E8F0FE;\n",
              "      border: none;\n",
              "      border-radius: 50%;\n",
              "      cursor: pointer;\n",
              "      display: none;\n",
              "      fill: #1967D2;\n",
              "      height: 32px;\n",
              "      padding: 0 0 0 0;\n",
              "      width: 32px;\n",
              "    }\n",
              "\n",
              "    .colab-df-convert:hover {\n",
              "      background-color: #E2EBFA;\n",
              "      box-shadow: 0px 1px 2px rgba(60, 64, 67, 0.3), 0px 1px 3px 1px rgba(60, 64, 67, 0.15);\n",
              "      fill: #174EA6;\n",
              "    }\n",
              "\n",
              "    .colab-df-buttons div {\n",
              "      margin-bottom: 4px;\n",
              "    }\n",
              "\n",
              "    [theme=dark] .colab-df-convert {\n",
              "      background-color: #3B4455;\n",
              "      fill: #D2E3FC;\n",
              "    }\n",
              "\n",
              "    [theme=dark] .colab-df-convert:hover {\n",
              "      background-color: #434B5C;\n",
              "      box-shadow: 0px 1px 3px 1px rgba(0, 0, 0, 0.15);\n",
              "      filter: drop-shadow(0px 1px 2px rgba(0, 0, 0, 0.3));\n",
              "      fill: #FFFFFF;\n",
              "    }\n",
              "  </style>\n",
              "\n",
              "    <script>\n",
              "      const buttonEl =\n",
              "        document.querySelector('#df-eaed007e-911f-430f-b580-25b45006d4b1 button.colab-df-convert');\n",
              "      buttonEl.style.display =\n",
              "        google.colab.kernel.accessAllowed ? 'block' : 'none';\n",
              "\n",
              "      async function convertToInteractive(key) {\n",
              "        const element = document.querySelector('#df-eaed007e-911f-430f-b580-25b45006d4b1');\n",
              "        const dataTable =\n",
              "          await google.colab.kernel.invokeFunction('convertToInteractive',\n",
              "                                                    [key], {});\n",
              "        if (!dataTable) return;\n",
              "\n",
              "        const docLinkHtml = 'Like what you see? Visit the ' +\n",
              "          '<a target=\"_blank\" href=https://colab.research.google.com/notebooks/data_table.ipynb>data table notebook</a>'\n",
              "          + ' to learn more about interactive tables.';\n",
              "        element.innerHTML = '';\n",
              "        dataTable['output_type'] = 'display_data';\n",
              "        await google.colab.output.renderOutput(dataTable, element);\n",
              "        const docLink = document.createElement('div');\n",
              "        docLink.innerHTML = docLinkHtml;\n",
              "        element.appendChild(docLink);\n",
              "      }\n",
              "    </script>\n",
              "  </div>\n",
              "\n",
              "\n",
              "<div id=\"df-c8face7d-baf9-4d4c-bb07-6ae51b56e438\">\n",
              "  <button class=\"colab-df-quickchart\" onclick=\"quickchart('df-c8face7d-baf9-4d4c-bb07-6ae51b56e438')\"\n",
              "            title=\"Suggest charts\"\n",
              "            style=\"display:none;\">\n",
              "\n",
              "<svg xmlns=\"http://www.w3.org/2000/svg\" height=\"24px\"viewBox=\"0 0 24 24\"\n",
              "     width=\"24px\">\n",
              "    <g>\n",
              "        <path d=\"M19 3H5c-1.1 0-2 .9-2 2v14c0 1.1.9 2 2 2h14c1.1 0 2-.9 2-2V5c0-1.1-.9-2-2-2zM9 17H7v-7h2v7zm4 0h-2V7h2v10zm4 0h-2v-4h2v4z\"/>\n",
              "    </g>\n",
              "</svg>\n",
              "  </button>\n",
              "\n",
              "<style>\n",
              "  .colab-df-quickchart {\n",
              "      --bg-color: #E8F0FE;\n",
              "      --fill-color: #1967D2;\n",
              "      --hover-bg-color: #E2EBFA;\n",
              "      --hover-fill-color: #174EA6;\n",
              "      --disabled-fill-color: #AAA;\n",
              "      --disabled-bg-color: #DDD;\n",
              "  }\n",
              "\n",
              "  [theme=dark] .colab-df-quickchart {\n",
              "      --bg-color: #3B4455;\n",
              "      --fill-color: #D2E3FC;\n",
              "      --hover-bg-color: #434B5C;\n",
              "      --hover-fill-color: #FFFFFF;\n",
              "      --disabled-bg-color: #3B4455;\n",
              "      --disabled-fill-color: #666;\n",
              "  }\n",
              "\n",
              "  .colab-df-quickchart {\n",
              "    background-color: var(--bg-color);\n",
              "    border: none;\n",
              "    border-radius: 50%;\n",
              "    cursor: pointer;\n",
              "    display: none;\n",
              "    fill: var(--fill-color);\n",
              "    height: 32px;\n",
              "    padding: 0;\n",
              "    width: 32px;\n",
              "  }\n",
              "\n",
              "  .colab-df-quickchart:hover {\n",
              "    background-color: var(--hover-bg-color);\n",
              "    box-shadow: 0 1px 2px rgba(60, 64, 67, 0.3), 0 1px 3px 1px rgba(60, 64, 67, 0.15);\n",
              "    fill: var(--button-hover-fill-color);\n",
              "  }\n",
              "\n",
              "  .colab-df-quickchart-complete:disabled,\n",
              "  .colab-df-quickchart-complete:disabled:hover {\n",
              "    background-color: var(--disabled-bg-color);\n",
              "    fill: var(--disabled-fill-color);\n",
              "    box-shadow: none;\n",
              "  }\n",
              "\n",
              "  .colab-df-spinner {\n",
              "    border: 2px solid var(--fill-color);\n",
              "    border-color: transparent;\n",
              "    border-bottom-color: var(--fill-color);\n",
              "    animation:\n",
              "      spin 1s steps(1) infinite;\n",
              "  }\n",
              "\n",
              "  @keyframes spin {\n",
              "    0% {\n",
              "      border-color: transparent;\n",
              "      border-bottom-color: var(--fill-color);\n",
              "      border-left-color: var(--fill-color);\n",
              "    }\n",
              "    20% {\n",
              "      border-color: transparent;\n",
              "      border-left-color: var(--fill-color);\n",
              "      border-top-color: var(--fill-color);\n",
              "    }\n",
              "    30% {\n",
              "      border-color: transparent;\n",
              "      border-left-color: var(--fill-color);\n",
              "      border-top-color: var(--fill-color);\n",
              "      border-right-color: var(--fill-color);\n",
              "    }\n",
              "    40% {\n",
              "      border-color: transparent;\n",
              "      border-right-color: var(--fill-color);\n",
              "      border-top-color: var(--fill-color);\n",
              "    }\n",
              "    60% {\n",
              "      border-color: transparent;\n",
              "      border-right-color: var(--fill-color);\n",
              "    }\n",
              "    80% {\n",
              "      border-color: transparent;\n",
              "      border-right-color: var(--fill-color);\n",
              "      border-bottom-color: var(--fill-color);\n",
              "    }\n",
              "    90% {\n",
              "      border-color: transparent;\n",
              "      border-bottom-color: var(--fill-color);\n",
              "    }\n",
              "  }\n",
              "</style>\n",
              "\n",
              "  <script>\n",
              "    async function quickchart(key) {\n",
              "      const quickchartButtonEl =\n",
              "        document.querySelector('#' + key + ' button');\n",
              "      quickchartButtonEl.disabled = true;  // To prevent multiple clicks.\n",
              "      quickchartButtonEl.classList.add('colab-df-spinner');\n",
              "      try {\n",
              "        const charts = await google.colab.kernel.invokeFunction(\n",
              "            'suggestCharts', [key], {});\n",
              "      } catch (error) {\n",
              "        console.error('Error during call to suggestCharts:', error);\n",
              "      }\n",
              "      quickchartButtonEl.classList.remove('colab-df-spinner');\n",
              "      quickchartButtonEl.classList.add('colab-df-quickchart-complete');\n",
              "    }\n",
              "    (() => {\n",
              "      let quickchartButtonEl =\n",
              "        document.querySelector('#df-c8face7d-baf9-4d4c-bb07-6ae51b56e438 button');\n",
              "      quickchartButtonEl.style.display =\n",
              "        google.colab.kernel.accessAllowed ? 'block' : 'none';\n",
              "    })();\n",
              "  </script>\n",
              "</div>\n",
              "\n",
              "    </div>\n",
              "  </div>\n"
            ],
            "application/vnd.google.colaboratory.intrinsic+json": {
              "type": "dataframe",
              "variable_name": "df",
              "summary": "{\n  \"name\": \"df\",\n  \"rows\": 10787,\n  \"fields\": [\n    {\n      \"column\": \"Date\",\n      \"properties\": {\n        \"dtype\": \"object\",\n        \"num_unique_values\": 10787,\n        \"samples\": [\n          \"2012-03-16\",\n          \"2019-02-18\",\n          \"1992-09-16\"\n        ],\n        \"semantic_type\": \"\",\n        \"description\": \"\"\n      }\n    },\n    {\n      \"column\": \"Value\",\n      \"properties\": {\n        \"dtype\": \"number\",\n        \"std\": 434.0308475060112,\n        \"min\": 35.1,\n        \"max\": 1895.0,\n        \"num_unique_values\": 5901,\n        \"samples\": [\n          790.25,\n          1290.35,\n          1212.85\n        ],\n        \"semantic_type\": \"\",\n        \"description\": \"\"\n      }\n    }\n  ]\n}"
            }
          },
          "metadata": {},
          "execution_count": 3
        }
      ]
    },
    {
      "cell_type": "code",
      "source": [
        "df.info()"
      ],
      "metadata": {
        "colab": {
          "base_uri": "https://localhost:8080/"
        },
        "id": "AOnnICH3flag",
        "outputId": "ad8fc5b1-24d7-4b02-ab4b-ad5e624f9903"
      },
      "execution_count": 4,
      "outputs": [
        {
          "output_type": "stream",
          "name": "stdout",
          "text": [
            "<class 'pandas.core.frame.DataFrame'>\n",
            "RangeIndex: 10787 entries, 0 to 10786\n",
            "Data columns (total 2 columns):\n",
            " #   Column  Non-Null Count  Dtype  \n",
            "---  ------  --------------  -----  \n",
            " 0   Date    10787 non-null  object \n",
            " 1   Value   10787 non-null  float64\n",
            "dtypes: float64(1), object(1)\n",
            "memory usage: 168.7+ KB\n"
          ]
        }
      ]
    },
    {
      "cell_type": "code",
      "source": [
        "df.describe()"
      ],
      "metadata": {
        "colab": {
          "base_uri": "https://localhost:8080/",
          "height": 300
        },
        "id": "czonMqUufn9w",
        "outputId": "dc9076fd-2d7b-4079-b252-1df78c52dd5e"
      },
      "execution_count": 5,
      "outputs": [
        {
          "output_type": "execute_result",
          "data": {
            "text/plain": [
              "              Value\n",
              "count  10787.000000\n",
              "mean     653.596634\n",
              "std      434.030848\n",
              "min       35.100000\n",
              "25%      349.200000\n",
              "50%      409.350000\n",
              "75%     1061.625000\n",
              "max     1895.000000"
            ],
            "text/html": [
              "\n",
              "  <div id=\"df-5111bc84-e1f1-401e-bc70-efc164a303cb\" class=\"colab-df-container\">\n",
              "    <div>\n",
              "<style scoped>\n",
              "    .dataframe tbody tr th:only-of-type {\n",
              "        vertical-align: middle;\n",
              "    }\n",
              "\n",
              "    .dataframe tbody tr th {\n",
              "        vertical-align: top;\n",
              "    }\n",
              "\n",
              "    .dataframe thead th {\n",
              "        text-align: right;\n",
              "    }\n",
              "</style>\n",
              "<table border=\"1\" class=\"dataframe\">\n",
              "  <thead>\n",
              "    <tr style=\"text-align: right;\">\n",
              "      <th></th>\n",
              "      <th>Value</th>\n",
              "    </tr>\n",
              "  </thead>\n",
              "  <tbody>\n",
              "    <tr>\n",
              "      <th>count</th>\n",
              "      <td>10787.000000</td>\n",
              "    </tr>\n",
              "    <tr>\n",
              "      <th>mean</th>\n",
              "      <td>653.596634</td>\n",
              "    </tr>\n",
              "    <tr>\n",
              "      <th>std</th>\n",
              "      <td>434.030848</td>\n",
              "    </tr>\n",
              "    <tr>\n",
              "      <th>min</th>\n",
              "      <td>35.100000</td>\n",
              "    </tr>\n",
              "    <tr>\n",
              "      <th>25%</th>\n",
              "      <td>349.200000</td>\n",
              "    </tr>\n",
              "    <tr>\n",
              "      <th>50%</th>\n",
              "      <td>409.350000</td>\n",
              "    </tr>\n",
              "    <tr>\n",
              "      <th>75%</th>\n",
              "      <td>1061.625000</td>\n",
              "    </tr>\n",
              "    <tr>\n",
              "      <th>max</th>\n",
              "      <td>1895.000000</td>\n",
              "    </tr>\n",
              "  </tbody>\n",
              "</table>\n",
              "</div>\n",
              "    <div class=\"colab-df-buttons\">\n",
              "\n",
              "  <div class=\"colab-df-container\">\n",
              "    <button class=\"colab-df-convert\" onclick=\"convertToInteractive('df-5111bc84-e1f1-401e-bc70-efc164a303cb')\"\n",
              "            title=\"Convert this dataframe to an interactive table.\"\n",
              "            style=\"display:none;\">\n",
              "\n",
              "  <svg xmlns=\"http://www.w3.org/2000/svg\" height=\"24px\" viewBox=\"0 -960 960 960\">\n",
              "    <path d=\"M120-120v-720h720v720H120Zm60-500h600v-160H180v160Zm220 220h160v-160H400v160Zm0 220h160v-160H400v160ZM180-400h160v-160H180v160Zm440 0h160v-160H620v160ZM180-180h160v-160H180v160Zm440 0h160v-160H620v160Z\"/>\n",
              "  </svg>\n",
              "    </button>\n",
              "\n",
              "  <style>\n",
              "    .colab-df-container {\n",
              "      display:flex;\n",
              "      gap: 12px;\n",
              "    }\n",
              "\n",
              "    .colab-df-convert {\n",
              "      background-color: #E8F0FE;\n",
              "      border: none;\n",
              "      border-radius: 50%;\n",
              "      cursor: pointer;\n",
              "      display: none;\n",
              "      fill: #1967D2;\n",
              "      height: 32px;\n",
              "      padding: 0 0 0 0;\n",
              "      width: 32px;\n",
              "    }\n",
              "\n",
              "    .colab-df-convert:hover {\n",
              "      background-color: #E2EBFA;\n",
              "      box-shadow: 0px 1px 2px rgba(60, 64, 67, 0.3), 0px 1px 3px 1px rgba(60, 64, 67, 0.15);\n",
              "      fill: #174EA6;\n",
              "    }\n",
              "\n",
              "    .colab-df-buttons div {\n",
              "      margin-bottom: 4px;\n",
              "    }\n",
              "\n",
              "    [theme=dark] .colab-df-convert {\n",
              "      background-color: #3B4455;\n",
              "      fill: #D2E3FC;\n",
              "    }\n",
              "\n",
              "    [theme=dark] .colab-df-convert:hover {\n",
              "      background-color: #434B5C;\n",
              "      box-shadow: 0px 1px 3px 1px rgba(0, 0, 0, 0.15);\n",
              "      filter: drop-shadow(0px 1px 2px rgba(0, 0, 0, 0.3));\n",
              "      fill: #FFFFFF;\n",
              "    }\n",
              "  </style>\n",
              "\n",
              "    <script>\n",
              "      const buttonEl =\n",
              "        document.querySelector('#df-5111bc84-e1f1-401e-bc70-efc164a303cb button.colab-df-convert');\n",
              "      buttonEl.style.display =\n",
              "        google.colab.kernel.accessAllowed ? 'block' : 'none';\n",
              "\n",
              "      async function convertToInteractive(key) {\n",
              "        const element = document.querySelector('#df-5111bc84-e1f1-401e-bc70-efc164a303cb');\n",
              "        const dataTable =\n",
              "          await google.colab.kernel.invokeFunction('convertToInteractive',\n",
              "                                                    [key], {});\n",
              "        if (!dataTable) return;\n",
              "\n",
              "        const docLinkHtml = 'Like what you see? Visit the ' +\n",
              "          '<a target=\"_blank\" href=https://colab.research.google.com/notebooks/data_table.ipynb>data table notebook</a>'\n",
              "          + ' to learn more about interactive tables.';\n",
              "        element.innerHTML = '';\n",
              "        dataTable['output_type'] = 'display_data';\n",
              "        await google.colab.output.renderOutput(dataTable, element);\n",
              "        const docLink = document.createElement('div');\n",
              "        docLink.innerHTML = docLinkHtml;\n",
              "        element.appendChild(docLink);\n",
              "      }\n",
              "    </script>\n",
              "  </div>\n",
              "\n",
              "\n",
              "<div id=\"df-4147ae67-9679-4ab9-9ef4-83d59d0944f1\">\n",
              "  <button class=\"colab-df-quickchart\" onclick=\"quickchart('df-4147ae67-9679-4ab9-9ef4-83d59d0944f1')\"\n",
              "            title=\"Suggest charts\"\n",
              "            style=\"display:none;\">\n",
              "\n",
              "<svg xmlns=\"http://www.w3.org/2000/svg\" height=\"24px\"viewBox=\"0 0 24 24\"\n",
              "     width=\"24px\">\n",
              "    <g>\n",
              "        <path d=\"M19 3H5c-1.1 0-2 .9-2 2v14c0 1.1.9 2 2 2h14c1.1 0 2-.9 2-2V5c0-1.1-.9-2-2-2zM9 17H7v-7h2v7zm4 0h-2V7h2v10zm4 0h-2v-4h2v4z\"/>\n",
              "    </g>\n",
              "</svg>\n",
              "  </button>\n",
              "\n",
              "<style>\n",
              "  .colab-df-quickchart {\n",
              "      --bg-color: #E8F0FE;\n",
              "      --fill-color: #1967D2;\n",
              "      --hover-bg-color: #E2EBFA;\n",
              "      --hover-fill-color: #174EA6;\n",
              "      --disabled-fill-color: #AAA;\n",
              "      --disabled-bg-color: #DDD;\n",
              "  }\n",
              "\n",
              "  [theme=dark] .colab-df-quickchart {\n",
              "      --bg-color: #3B4455;\n",
              "      --fill-color: #D2E3FC;\n",
              "      --hover-bg-color: #434B5C;\n",
              "      --hover-fill-color: #FFFFFF;\n",
              "      --disabled-bg-color: #3B4455;\n",
              "      --disabled-fill-color: #666;\n",
              "  }\n",
              "\n",
              "  .colab-df-quickchart {\n",
              "    background-color: var(--bg-color);\n",
              "    border: none;\n",
              "    border-radius: 50%;\n",
              "    cursor: pointer;\n",
              "    display: none;\n",
              "    fill: var(--fill-color);\n",
              "    height: 32px;\n",
              "    padding: 0;\n",
              "    width: 32px;\n",
              "  }\n",
              "\n",
              "  .colab-df-quickchart:hover {\n",
              "    background-color: var(--hover-bg-color);\n",
              "    box-shadow: 0 1px 2px rgba(60, 64, 67, 0.3), 0 1px 3px 1px rgba(60, 64, 67, 0.15);\n",
              "    fill: var(--button-hover-fill-color);\n",
              "  }\n",
              "\n",
              "  .colab-df-quickchart-complete:disabled,\n",
              "  .colab-df-quickchart-complete:disabled:hover {\n",
              "    background-color: var(--disabled-bg-color);\n",
              "    fill: var(--disabled-fill-color);\n",
              "    box-shadow: none;\n",
              "  }\n",
              "\n",
              "  .colab-df-spinner {\n",
              "    border: 2px solid var(--fill-color);\n",
              "    border-color: transparent;\n",
              "    border-bottom-color: var(--fill-color);\n",
              "    animation:\n",
              "      spin 1s steps(1) infinite;\n",
              "  }\n",
              "\n",
              "  @keyframes spin {\n",
              "    0% {\n",
              "      border-color: transparent;\n",
              "      border-bottom-color: var(--fill-color);\n",
              "      border-left-color: var(--fill-color);\n",
              "    }\n",
              "    20% {\n",
              "      border-color: transparent;\n",
              "      border-left-color: var(--fill-color);\n",
              "      border-top-color: var(--fill-color);\n",
              "    }\n",
              "    30% {\n",
              "      border-color: transparent;\n",
              "      border-left-color: var(--fill-color);\n",
              "      border-top-color: var(--fill-color);\n",
              "      border-right-color: var(--fill-color);\n",
              "    }\n",
              "    40% {\n",
              "      border-color: transparent;\n",
              "      border-right-color: var(--fill-color);\n",
              "      border-top-color: var(--fill-color);\n",
              "    }\n",
              "    60% {\n",
              "      border-color: transparent;\n",
              "      border-right-color: var(--fill-color);\n",
              "    }\n",
              "    80% {\n",
              "      border-color: transparent;\n",
              "      border-right-color: var(--fill-color);\n",
              "      border-bottom-color: var(--fill-color);\n",
              "    }\n",
              "    90% {\n",
              "      border-color: transparent;\n",
              "      border-bottom-color: var(--fill-color);\n",
              "    }\n",
              "  }\n",
              "</style>\n",
              "\n",
              "  <script>\n",
              "    async function quickchart(key) {\n",
              "      const quickchartButtonEl =\n",
              "        document.querySelector('#' + key + ' button');\n",
              "      quickchartButtonEl.disabled = true;  // To prevent multiple clicks.\n",
              "      quickchartButtonEl.classList.add('colab-df-spinner');\n",
              "      try {\n",
              "        const charts = await google.colab.kernel.invokeFunction(\n",
              "            'suggestCharts', [key], {});\n",
              "      } catch (error) {\n",
              "        console.error('Error during call to suggestCharts:', error);\n",
              "      }\n",
              "      quickchartButtonEl.classList.remove('colab-df-spinner');\n",
              "      quickchartButtonEl.classList.add('colab-df-quickchart-complete');\n",
              "    }\n",
              "    (() => {\n",
              "      let quickchartButtonEl =\n",
              "        document.querySelector('#df-4147ae67-9679-4ab9-9ef4-83d59d0944f1 button');\n",
              "      quickchartButtonEl.style.display =\n",
              "        google.colab.kernel.accessAllowed ? 'block' : 'none';\n",
              "    })();\n",
              "  </script>\n",
              "</div>\n",
              "\n",
              "    </div>\n",
              "  </div>\n"
            ],
            "application/vnd.google.colaboratory.intrinsic+json": {
              "type": "dataframe",
              "summary": "{\n  \"name\": \"df\",\n  \"rows\": 8,\n  \"fields\": [\n    {\n      \"column\": \"Value\",\n      \"properties\": {\n        \"dtype\": \"number\",\n        \"std\": 3614.78226681472,\n        \"min\": 35.1,\n        \"max\": 10787.0,\n        \"num_unique_values\": 8,\n        \"samples\": [\n          653.5966339111894,\n          409.35,\n          10787.0\n        ],\n        \"semantic_type\": \"\",\n        \"description\": \"\"\n      }\n    }\n  ]\n}"
            }
          },
          "metadata": {},
          "execution_count": 5
        }
      ]
    },
    {
      "cell_type": "code",
      "source": [
        "df['Date'] = pd.to_datetime(df['Date'])\n",
        "df.set_index('Date', inplace= True)"
      ],
      "metadata": {
        "id": "X5ITwlLxfq9s"
      },
      "execution_count": 6,
      "outputs": []
    },
    {
      "cell_type": "code",
      "source": [
        "plt.figure(figsize=(15, 6))\n",
        "df['Value'].plot()\n",
        "plt.ylabel(None)\n",
        "plt.xlabel(None)\n",
        "plt.title(\"Gold Price\")\n",
        "plt.tight_layout()\n",
        "plt.show()"
      ],
      "metadata": {
        "colab": {
          "base_uri": "https://localhost:8080/",
          "height": 269
        },
        "id": "hPoBnLvNfzPC",
        "outputId": "3cfb2b4e-74a5-49d1-ff56-b5227a06d0e3"
      },
      "execution_count": 7,
      "outputs": [
        {
          "output_type": "display_data",
          "data": {
            "text/plain": [
              "<Figure size 1500x600 with 1 Axes>"
            ],
            "image/png": "[encoded data removed]"
          },
          "metadata": {}
        }
      ]
    },
    {
      "cell_type": "code",
      "source": [
        "n_cols = 1\n",
        "dataset = df[\"Value\"]\n",
        "dataset = pd.DataFrame(dataset)\n",
        "data = dataset.values\n",
        "\n",
        "data.shape"
      ],
      "metadata": {
        "colab": {
          "base_uri": "https://localhost:8080/"
        },
        "id": "nStWXQKefz9-",
        "outputId": "5d798747-fdf2-49c4-e499-aa427b007bd4"
      },
      "execution_count": 8,
      "outputs": [
        {
          "output_type": "execute_result",
          "data": {
            "text/plain": [
              "(10787, 1)"
            ]
          },
          "metadata": {},
          "execution_count": 8
        }
      ]
    },
    {
      "cell_type": "code",
      "source": [
        "from sklearn.preprocessing import MinMaxScaler\n",
        "scaler = MinMaxScaler(feature_range= (0, 1))\n",
        "scaled_data = scaler.fit_transform(np.array(data))"
      ],
      "metadata": {
        "id": "wGZykTjtf4Bd"
      },
      "execution_count": 9,
      "outputs": []
    },
    {
      "cell_type": "code",
      "source": [
        "train_size = int(len(data) * 0.75)\n",
        "test_size = len(data) - train_size\n",
        "print(\"Train Size :\",train_size,\"Test Size :\",test_size)"
      ],
      "metadata": {
        "colab": {
          "base_uri": "https://localhost:8080/"
        },
        "id": "bLGMuCXMf7F_",
        "outputId": "f7b2312e-38b0-447c-a84b-ec97189e4feb"
      },
      "execution_count": 10,
      "outputs": [
        {
          "output_type": "stream",
          "name": "stdout",
          "text": [
            "Train Size : 8090 Test Size : 2697\n"
          ]
        }
      ]
    },
    {
      "cell_type": "code",
      "source": [
        "train_data = scaled_data[0:train_size, :]\n",
        "train_data.shape"
      ],
      "metadata": {
        "colab": {
          "base_uri": "https://localhost:8080/"
        },
        "id": "TmQyiFYUf-oa",
        "outputId": "151f27c8-bc34-416a-a4de-117db1380395"
      },
      "execution_count": 11,
      "outputs": [
        {
          "output_type": "execute_result",
          "data": {
            "text/plain": [
              "(8090, 1)"
            ]
          },
          "metadata": {},
          "execution_count": 11
        }
      ]
    },
    {
      "cell_type": "code",
      "source": [
        "x_train = []\n",
        "y_train = []\n",
        "time_steps = 100\n",
        "n_cols = 1\n",
        "\n",
        "for i in range(time_steps, len(train_data)):\n",
        "    x_train.append(train_data[i-time_steps:i, :n_cols])\n",
        "    y_train.append(train_data[i, :n_cols])\n",
        "    if i<=time_steps:\n",
        "        print('X_train: ', x_train)\n",
        "        print('y_train:' , y_train)"
      ],
      "metadata": {
        "colab": {
          "base_uri": "https://localhost:8080/"
        },
        "id": "PmCPQ3ZJgCTw",
        "outputId": "2983e558-38b1-4983-f19e-d7ee2910b3ef"
      },
      "execution_count": 12,
      "outputs": [
        {
          "output_type": "stream",
          "name": "stdout",
          "text": [
            "X_train:  [array([[5.37663315e-05],\n",
            "       [0.00000000e+00],\n",
            "       [1.61298995e-04],\n",
            "       [5.91429647e-04],\n",
            "       [1.23662563e-03],\n",
            "       [2.04312060e-03],\n",
            "       [2.68831658e-03],\n",
            "       [3.70987688e-03],\n",
            "       [4.51637185e-03],\n",
            "       [7.09715576e-03],\n",
            "       [1.45169095e-02],\n",
            "       [1.63449648e-02],\n",
            "       [1.54847035e-02],\n",
            "       [2.65068014e-02],\n",
            "       [4.57013818e-02],\n",
            "       [3.65073391e-02],\n",
            "       [3.84966934e-02],\n",
            "       [7.16705199e-02],\n",
            "       [6.39819345e-02],\n",
            "       [6.27453089e-02],\n",
            "       [8.00043013e-02],\n",
            "       [7.64557234e-02],\n",
            "       [7.06489596e-02],\n",
            "       [5.82827034e-02],\n",
            "       [5.65621808e-02],\n",
            "       [5.05941180e-02],\n",
            "       [4.72068391e-02],\n",
            "       [4.34969622e-02],\n",
            "       [5.34437335e-02],\n",
            "       [6.08634873e-02],\n",
            "       [5.77988064e-02],\n",
            "       [6.47346632e-02],\n",
            "       [6.98424646e-02],\n",
            "       [7.97354696e-02],\n",
            "       [7.96817033e-02],\n",
            "       [9.78547234e-02],\n",
            "       [1.02639927e-01],\n",
            "       [1.02639927e-01],\n",
            "       [1.03070058e-01],\n",
            "       [9.86612183e-02],\n",
            "       [1.01107586e-01],\n",
            "       [1.02371095e-01],\n",
            "       [1.01080703e-01],\n",
            "       [1.01564600e-01],\n",
            "       [9.97903113e-02],\n",
            "       [9.97634281e-02],\n",
            "       [9.81235550e-02],\n",
            "       [9.77203075e-02],\n",
            "       [9.97634281e-02],\n",
            "       [1.03312006e-01],\n",
            "       [1.05731491e-01],\n",
            "       [1.05086295e-01],\n",
            "       [1.07478897e-01],\n",
            "       [1.04790580e-01],\n",
            "       [1.08070326e-01],\n",
            "       [1.06860584e-01],\n",
            "       [1.07720845e-01],\n",
            "       [1.07586429e-01],\n",
            "       [1.06672402e-01],\n",
            "       [1.06779934e-01],\n",
            "       [1.04441099e-01],\n",
            "       [1.04951879e-01],\n",
            "       [1.11833970e-01],\n",
            "       [1.12586698e-01],\n",
            "       [1.16404108e-01],\n",
            "       [1.15812678e-01],\n",
            "       [1.13796441e-01],\n",
            "       [1.12452282e-01],\n",
            "       [1.10489811e-01],\n",
            "       [1.10516694e-01],\n",
            "       [1.14334104e-01],\n",
            "       [1.13957740e-01],\n",
            "       [1.14522286e-01],\n",
            "       [1.13930856e-01],\n",
            "       [1.15947094e-01],\n",
            "       [1.16807355e-01],\n",
            "       [1.16081510e-01],\n",
            "       [1.14791118e-01],\n",
            "       [1.14414753e-01],\n",
            "       [1.16242809e-01],\n",
            "       [1.14898650e-01],\n",
            "       [1.14468520e-01],\n",
            "       [1.09172536e-01],\n",
            "       [1.10032797e-01],\n",
            "       [1.11376956e-01],\n",
            "       [1.09737083e-01],\n",
            "       [1.10704877e-01],\n",
            "       [1.10167213e-01],\n",
            "       [1.09683316e-01],\n",
            "       [1.09898382e-01],\n",
            "       [1.10220980e-01],\n",
            "       [1.12317867e-01],\n",
            "       [1.11376956e-01],\n",
            "       [1.11296306e-01],\n",
            "       [1.10113447e-01],\n",
            "       [1.11699554e-01],\n",
            "       [1.11511372e-01],\n",
            "       [1.12989946e-01],\n",
            "       [1.12506049e-01],\n",
            "       [1.12532932e-01]])]\n",
            "y_train: [array([0.11097371])]\n"
          ]
        }
      ]
    },
    {
      "cell_type": "code",
      "source": [
        "x_train, y_train = np.array(x_train), np.array(y_train)"
      ],
      "metadata": {
        "id": "u8PfxFZwgFrU"
      },
      "execution_count": 13,
      "outputs": []
    },
    {
      "cell_type": "code",
      "source": [
        "x_train = np.reshape(x_train, (x_train.shape[0], x_train.shape[1], n_cols))"
      ],
      "metadata": {
        "id": "ZZkF4-ukgKMb"
      },
      "execution_count": 14,
      "outputs": []
    },
    {
      "cell_type": "code",
      "source": [
        "x_train.shape , y_train.shape"
      ],
      "metadata": {
        "colab": {
          "base_uri": "https://localhost:8080/"
        },
        "id": "cfdutp7VgMNx",
        "outputId": "5a2c7ce1-0fcb-4853-d7f6-39cc30b82aef"
      },
      "execution_count": 15,
      "outputs": [
        {
          "output_type": "execute_result",
          "data": {
            "text/plain": [
              "((7990, 100, 1), (7990, 1))"
            ]
          },
          "metadata": {},
          "execution_count": 15
        }
      ]
    },
    {
      "cell_type": "code",
      "source": [
        "model = Sequential([\n",
        "    LSTM(50, return_sequences= True, input_shape= (x_train.shape[1], n_cols)),\n",
        "    LSTM(64, return_sequences= False),\n",
        "    Dense(32),\n",
        "    Dense(16),\n",
        "    Dense(n_cols)\n",
        "])\n",
        "\n",
        "model.compile(optimizer= 'adam', loss= 'mse' , metrics= \"mean_absolute_error\")"
      ],
      "metadata": {
        "id": "nHOQ63g3gOYH"
      },
      "execution_count": 17,
      "outputs": []
    },
    {
      "cell_type": "code",
      "source": [
        "model.summary()"
      ],
      "metadata": {
        "colab": {
          "base_uri": "https://localhost:8080/"
        },
        "id": "Z8KpOO7jgRVb",
        "outputId": "2af136ec-c979-45b7-882f-6a9a800c15cf"
      },
      "execution_count": 18,
      "outputs": [
        {
          "output_type": "stream",
          "name": "stdout",
          "text": [
            "Model: \"sequential_1\"\n",
            "_________________________________________________________________\n",
            " Layer (type)                Output Shape              Param #   \n",
            "=================================================================\n",
            " lstm_2 (LSTM)               (None, 100, 50)           10400     \n",
            "                                                                 \n",
            " lstm_3 (LSTM)               (None, 64)                29440     \n",
            "                                                                 \n",
            " dense_3 (Dense)             (None, 32)                2080      \n",
            "                                                                 \n",
            " dense_4 (Dense)             (None, 16)                528       \n",
            "                                                                 \n",
            " dense_5 (Dense)             (None, 1)                 17        \n",
            "                                                                 \n",
            "=================================================================\n",
            "Total params: 42465 (165.88 KB)\n",
            "Trainable params: 42465 (165.88 KB)\n",
            "Non-trainable params: 0 (0.00 Byte)\n",
            "_________________________________________________________________\n"
          ]
        }
      ]
    },
    {
      "cell_type": "code",
      "source": [
        "history = model.fit(x_train, y_train, epochs= 100, batch_size= 32)"
      ],
      "metadata": {
        "colab": {
          "base_uri": "https://localhost:8080/"
        },
        "id": "dR2fkt1wgXky",
        "outputId": "82c5f614-93f1-40cc-da37-48d44f0f15cb"
      },
      "execution_count": 19,
      "outputs": [
        {
          "output_type": "stream",
          "name": "stdout",
          "text": [
            "Epoch 1/100\n",
            "250/250 [==============================] - 31s 102ms/step - loss: 4.2612e-04 - mean_absolute_error: 0.0095\n",
            "Epoch 2/100\n",
            "250/250 [==============================] - 29s 118ms/step - loss: 6.8778e-05 - mean_absolute_error: 0.0052\n",
            "Epoch 3/100\n",
            "250/250 [==============================] - 26s 103ms/step - loss: 6.7997e-05 - mean_absolute_error: 0.0054\n",
            "Epoch 4/100\n",
            "250/250 [==============================] - 23s 93ms/step - loss: 5.5242e-05 - mean_absolute_error: 0.0048\n",
            "Epoch 5/100\n",
            "250/250 [==============================] - 22s 88ms/step - loss: 5.2303e-05 - mean_absolute_error: 0.0046\n",
            "Epoch 6/100\n",
            "250/250 [==============================] - 27s 110ms/step - loss: 5.1352e-05 - mean_absolute_error: 0.0047\n",
            "Epoch 7/100\n",
            "250/250 [==============================] - 25s 99ms/step - loss: 5.0048e-05 - mean_absolute_error: 0.0048\n",
            "Epoch 8/100\n",
            "250/250 [==============================] - 23s 93ms/step - loss: 4.1944e-05 - mean_absolute_error: 0.0042\n",
            "Epoch 9/100\n",
            "250/250 [==============================] - 23s 91ms/step - loss: 4.3660e-05 - mean_absolute_error: 0.0044\n",
            "Epoch 10/100\n",
            "250/250 [==============================] - 22s 88ms/step - loss: 3.9254e-05 - mean_absolute_error: 0.0042\n",
            "Epoch 11/100\n",
            "250/250 [==============================] - 21s 85ms/step - loss: 3.3902e-05 - mean_absolute_error: 0.0039\n",
            "Epoch 12/100\n",
            "250/250 [==============================] - 22s 90ms/step - loss: 3.1701e-05 - mean_absolute_error: 0.0037\n",
            "Epoch 13/100\n",
            "250/250 [==============================] - 22s 88ms/step - loss: 3.2054e-05 - mean_absolute_error: 0.0038\n",
            "Epoch 14/100\n",
            "250/250 [==============================] - 21s 86ms/step - loss: 2.8631e-05 - mean_absolute_error: 0.0036\n",
            "Epoch 15/100\n",
            "250/250 [==============================] - 22s 88ms/step - loss: 2.7598e-05 - mean_absolute_error: 0.0036\n",
            "Epoch 16/100\n",
            "250/250 [==============================] - 22s 89ms/step - loss: 2.5287e-05 - mean_absolute_error: 0.0035\n",
            "Epoch 17/100\n",
            "250/250 [==============================] - 22s 88ms/step - loss: 2.4835e-05 - mean_absolute_error: 0.0033\n",
            "Epoch 18/100\n",
            "250/250 [==============================] - 22s 87ms/step - loss: 2.3412e-05 - mean_absolute_error: 0.0033\n",
            "Epoch 19/100\n",
            "250/250 [==============================] - 21s 83ms/step - loss: 2.1398e-05 - mean_absolute_error: 0.0031\n",
            "Epoch 20/100\n",
            "250/250 [==============================] - 22s 88ms/step - loss: 2.1966e-05 - mean_absolute_error: 0.0032\n",
            "Epoch 21/100\n",
            "250/250 [==============================] - 22s 88ms/step - loss: 2.3704e-05 - mean_absolute_error: 0.0034\n",
            "Epoch 22/100\n",
            "250/250 [==============================] - 22s 87ms/step - loss: 1.9236e-05 - mean_absolute_error: 0.0029\n",
            "Epoch 23/100\n",
            "250/250 [==============================] - 22s 89ms/step - loss: 2.0345e-05 - mean_absolute_error: 0.0029\n",
            "Epoch 24/100\n",
            "250/250 [==============================] - 22s 87ms/step - loss: 1.9876e-05 - mean_absolute_error: 0.0030\n",
            "Epoch 25/100\n",
            "250/250 [==============================] - 22s 87ms/step - loss: 1.8858e-05 - mean_absolute_error: 0.0029\n",
            "Epoch 26/100\n",
            "250/250 [==============================] - 22s 87ms/step - loss: 1.9789e-05 - mean_absolute_error: 0.0030\n",
            "Epoch 27/100\n",
            "250/250 [==============================] - 21s 84ms/step - loss: 2.0869e-05 - mean_absolute_error: 0.0031\n",
            "Epoch 28/100\n",
            "250/250 [==============================] - 22s 88ms/step - loss: 2.3559e-05 - mean_absolute_error: 0.0033\n",
            "Epoch 29/100\n",
            "250/250 [==============================] - 22s 88ms/step - loss: 1.9729e-05 - mean_absolute_error: 0.0029\n",
            "Epoch 30/100\n",
            "250/250 [==============================] - 25s 101ms/step - loss: 1.8618e-05 - mean_absolute_error: 0.0028\n",
            "Epoch 31/100\n",
            "250/250 [==============================] - 22s 87ms/step - loss: 2.0456e-05 - mean_absolute_error: 0.0030\n",
            "Epoch 32/100\n",
            "250/250 [==============================] - 21s 85ms/step - loss: 2.1260e-05 - mean_absolute_error: 0.0031\n",
            "Epoch 33/100\n",
            "250/250 [==============================] - 22s 88ms/step - loss: 2.0774e-05 - mean_absolute_error: 0.0030\n",
            "Epoch 34/100\n",
            "250/250 [==============================] - 22s 87ms/step - loss: 2.0232e-05 - mean_absolute_error: 0.0030\n",
            "Epoch 35/100\n",
            "250/250 [==============================] - 21s 85ms/step - loss: 2.1351e-05 - mean_absolute_error: 0.0031\n",
            "Epoch 36/100\n",
            "250/250 [==============================] - 21s 86ms/step - loss: 1.8129e-05 - mean_absolute_error: 0.0028\n",
            "Epoch 37/100\n",
            "250/250 [==============================] - 22s 88ms/step - loss: 2.0454e-05 - mean_absolute_error: 0.0030\n",
            "Epoch 38/100\n",
            "250/250 [==============================] - 23s 92ms/step - loss: 2.0424e-05 - mean_absolute_error: 0.0031\n",
            "Epoch 39/100\n",
            "250/250 [==============================] - 21s 85ms/step - loss: 1.8229e-05 - mean_absolute_error: 0.0028\n",
            "Epoch 40/100\n",
            "250/250 [==============================] - 22s 87ms/step - loss: 1.8756e-05 - mean_absolute_error: 0.0028\n",
            "Epoch 41/100\n",
            "250/250 [==============================] - 22s 88ms/step - loss: 2.0912e-05 - mean_absolute_error: 0.0031\n",
            "Epoch 42/100\n",
            "250/250 [==============================] - 22s 88ms/step - loss: 1.9253e-05 - mean_absolute_error: 0.0029\n",
            "Epoch 43/100\n",
            "250/250 [==============================] - 21s 85ms/step - loss: 1.9446e-05 - mean_absolute_error: 0.0029\n",
            "Epoch 44/100\n",
            "250/250 [==============================] - 22s 87ms/step - loss: 1.9707e-05 - mean_absolute_error: 0.0030\n",
            "Epoch 45/100\n",
            "250/250 [==============================] - 23s 93ms/step - loss: 1.9527e-05 - mean_absolute_error: 0.0030\n",
            "Epoch 46/100\n",
            "250/250 [==============================] - 22s 88ms/step - loss: 1.7159e-05 - mean_absolute_error: 0.0027\n",
            "Epoch 47/100\n",
            "250/250 [==============================] - 21s 84ms/step - loss: 1.8277e-05 - mean_absolute_error: 0.0028\n",
            "Epoch 48/100\n",
            "250/250 [==============================] - 22s 88ms/step - loss: 2.1019e-05 - mean_absolute_error: 0.0030\n",
            "Epoch 49/100\n",
            "250/250 [==============================] - 22s 88ms/step - loss: 1.7617e-05 - mean_absolute_error: 0.0027\n",
            "Epoch 50/100\n",
            "250/250 [==============================] - 22s 88ms/step - loss: 1.7469e-05 - mean_absolute_error: 0.0027\n",
            "Epoch 51/100\n",
            "250/250 [==============================] - 21s 83ms/step - loss: 1.8212e-05 - mean_absolute_error: 0.0028\n",
            "Epoch 52/100\n",
            "250/250 [==============================] - 22s 88ms/step - loss: 1.8018e-05 - mean_absolute_error: 0.0028\n",
            "Epoch 53/100\n",
            "250/250 [==============================] - 23s 92ms/step - loss: 1.7270e-05 - mean_absolute_error: 0.0027\n",
            "Epoch 54/100\n",
            "250/250 [==============================] - 22s 88ms/step - loss: 1.9773e-05 - mean_absolute_error: 0.0030\n",
            "Epoch 55/100\n",
            "250/250 [==============================] - 21s 84ms/step - loss: 1.9742e-05 - mean_absolute_error: 0.0030\n",
            "Epoch 56/100\n",
            "250/250 [==============================] - 22s 88ms/step - loss: 1.9717e-05 - mean_absolute_error: 0.0030\n",
            "Epoch 57/100\n",
            "250/250 [==============================] - 22s 88ms/step - loss: 1.9935e-05 - mean_absolute_error: 0.0030\n",
            "Epoch 58/100\n",
            "250/250 [==============================] - 22s 87ms/step - loss: 1.7063e-05 - mean_absolute_error: 0.0027\n",
            "Epoch 59/100\n",
            "250/250 [==============================] - 21s 84ms/step - loss: 1.6915e-05 - mean_absolute_error: 0.0026\n",
            "Epoch 60/100\n",
            "250/250 [==============================] - 23s 93ms/step - loss: 1.8528e-05 - mean_absolute_error: 0.0029\n",
            "Epoch 61/100\n",
            "250/250 [==============================] - 22s 88ms/step - loss: 1.7774e-05 - mean_absolute_error: 0.0027\n",
            "Epoch 62/100\n",
            "250/250 [==============================] - 21s 86ms/step - loss: 1.7005e-05 - mean_absolute_error: 0.0026\n",
            "Epoch 63/100\n",
            "250/250 [==============================] - 21s 86ms/step - loss: 1.7793e-05 - mean_absolute_error: 0.0028\n",
            "Epoch 64/100\n",
            "250/250 [==============================] - 22s 88ms/step - loss: 1.7632e-05 - mean_absolute_error: 0.0027\n",
            "Epoch 65/100\n",
            "250/250 [==============================] - 22s 88ms/step - loss: 1.7309e-05 - mean_absolute_error: 0.0027\n",
            "Epoch 66/100\n",
            "250/250 [==============================] - 21s 85ms/step - loss: 1.7279e-05 - mean_absolute_error: 0.0027\n",
            "Epoch 67/100\n",
            "250/250 [==============================] - 22s 87ms/step - loss: 1.9200e-05 - mean_absolute_error: 0.0029\n",
            "Epoch 68/100\n",
            "250/250 [==============================] - 23s 92ms/step - loss: 1.7099e-05 - mean_absolute_error: 0.0026\n",
            "Epoch 69/100\n",
            "250/250 [==============================] - 22s 88ms/step - loss: 1.6197e-05 - mean_absolute_error: 0.0025\n",
            "Epoch 70/100\n",
            "250/250 [==============================] - 21s 86ms/step - loss: 1.6031e-05 - mean_absolute_error: 0.0025\n",
            "Epoch 71/100\n",
            "250/250 [==============================] - 21s 86ms/step - loss: 1.7625e-05 - mean_absolute_error: 0.0027\n",
            "Epoch 72/100\n",
            "250/250 [==============================] - 22s 88ms/step - loss: 1.8042e-05 - mean_absolute_error: 0.0028\n",
            "Epoch 73/100\n",
            "250/250 [==============================] - 22s 87ms/step - loss: 1.8647e-05 - mean_absolute_error: 0.0029\n",
            "Epoch 74/100\n",
            "250/250 [==============================] - 21s 84ms/step - loss: 1.8112e-05 - mean_absolute_error: 0.0027\n",
            "Epoch 75/100\n",
            "250/250 [==============================] - 22s 87ms/step - loss: 1.7084e-05 - mean_absolute_error: 0.0026\n",
            "Epoch 76/100\n",
            "250/250 [==============================] - 23s 92ms/step - loss: 1.6548e-05 - mean_absolute_error: 0.0026\n",
            "Epoch 77/100\n",
            "250/250 [==============================] - 22s 88ms/step - loss: 1.7203e-05 - mean_absolute_error: 0.0027\n",
            "Epoch 78/100\n",
            "250/250 [==============================] - 21s 86ms/step - loss: 1.6494e-05 - mean_absolute_error: 0.0026\n",
            "Epoch 79/100\n",
            "250/250 [==============================] - 21s 85ms/step - loss: 1.6624e-05 - mean_absolute_error: 0.0025\n",
            "Epoch 80/100\n",
            "250/250 [==============================] - 22s 88ms/step - loss: 1.7145e-05 - mean_absolute_error: 0.0026\n",
            "Epoch 81/100\n",
            "250/250 [==============================] - 22s 87ms/step - loss: 1.7118e-05 - mean_absolute_error: 0.0027\n",
            "Epoch 82/100\n",
            "250/250 [==============================] - 21s 83ms/step - loss: 1.6580e-05 - mean_absolute_error: 0.0026\n",
            "Epoch 83/100\n",
            "250/250 [==============================] - 23s 92ms/step - loss: 1.6775e-05 - mean_absolute_error: 0.0026\n",
            "Epoch 84/100\n",
            "250/250 [==============================] - 22s 87ms/step - loss: 1.6298e-05 - mean_absolute_error: 0.0025\n",
            "Epoch 85/100\n",
            "250/250 [==============================] - 22s 87ms/step - loss: 1.6769e-05 - mean_absolute_error: 0.0026\n",
            "Epoch 86/100\n",
            "250/250 [==============================] - 21s 85ms/step - loss: 1.8233e-05 - mean_absolute_error: 0.0028\n",
            "Epoch 87/100\n",
            "250/250 [==============================] - 22s 87ms/step - loss: 1.8215e-05 - mean_absolute_error: 0.0028\n",
            "Epoch 88/100\n",
            "250/250 [==============================] - 22s 88ms/step - loss: 1.8033e-05 - mean_absolute_error: 0.0028\n",
            "Epoch 89/100\n",
            "250/250 [==============================] - 22s 88ms/step - loss: 1.6862e-05 - mean_absolute_error: 0.0027\n",
            "Epoch 90/100\n",
            "250/250 [==============================] - 21s 84ms/step - loss: 1.6285e-05 - mean_absolute_error: 0.0026\n",
            "Epoch 91/100\n",
            "250/250 [==============================] - 23s 92ms/step - loss: 1.5757e-05 - mean_absolute_error: 0.0024\n",
            "Epoch 92/100\n",
            "250/250 [==============================] - 22s 88ms/step - loss: 1.8288e-05 - mean_absolute_error: 0.0028\n",
            "Epoch 93/100\n",
            "250/250 [==============================] - 22s 87ms/step - loss: 1.8301e-05 - mean_absolute_error: 0.0028\n",
            "Epoch 94/100\n",
            "250/250 [==============================] - 21s 84ms/step - loss: 1.8339e-05 - mean_absolute_error: 0.0028\n",
            "Epoch 95/100\n",
            "250/250 [==============================] - 22s 87ms/step - loss: 1.7282e-05 - mean_absolute_error: 0.0027\n",
            "Epoch 96/100\n",
            "250/250 [==============================] - 22s 88ms/step - loss: 1.6715e-05 - mean_absolute_error: 0.0026\n",
            "Epoch 97/100\n",
            "250/250 [==============================] - 22s 88ms/step - loss: 1.7438e-05 - mean_absolute_error: 0.0027\n",
            "Epoch 98/100\n",
            "250/250 [==============================] - 21s 83ms/step - loss: 1.6861e-05 - mean_absolute_error: 0.0026\n",
            "Epoch 99/100\n",
            "250/250 [==============================] - 23s 92ms/step - loss: 1.5897e-05 - mean_absolute_error: 0.0025\n",
            "Epoch 100/100\n",
            "250/250 [==============================] - 22s 87ms/step - loss: 1.7571e-05 - mean_absolute_error: 0.0027\n"
          ]
        }
      ]
    },
    {
      "cell_type": "code",
      "source": [
        "plt.figure(figsize=(12, 8))\n",
        "plt.plot(history.history[\"loss\"])\n",
        "plt.plot(history.history[\"mean_absolute_error\"])\n",
        "plt.legend(['Mean Squared Error','Mean Absolute Error'])\n",
        "plt.title(\"Losses\")\n",
        "plt.xlabel(\"epochs\")\n",
        "plt.ylabel(\"loss\")\n",
        "plt.show()"
      ],
      "metadata": {
        "colab": {
          "base_uri": "https://localhost:8080/",
          "height": 436
        },
        "id": "0frFLRUrgdDh",
        "outputId": "27bc06f5-7041-4b80-a56d-552978cccbcd"
      },
      "execution_count": 21,
      "outputs": [
        {
          "output_type": "display_data",
          "data": {
            "text/plain": [
              "<Figure size 1200x800 with 1 Axes>"
            ],
            "image/png": "[encoded data removed]"
          },
          "metadata": {}
        }
      ]
    },
    {
      "cell_type": "code",
      "source": [
        "time_steps = 60\n",
        "test_data = scaled_data[train_size - time_steps:, :]\n",
        "\n",
        "x_test = []\n",
        "y_test = []\n",
        "n_cols = 1\n",
        "\n",
        "for i in range(time_steps, len(test_data)):\n",
        "    x_test.append(test_data[i-time_steps:i, 0:n_cols])\n",
        "    y_test.append(test_data[i, 0:n_cols])\n",
        "x_test, y_test = np.array(x_test), np.array(y_test)\n",
        "x_test = np.reshape(x_test, (x_test.shape[0], x_test.shape[1], n_cols))"
      ],
      "metadata": {
        "id": "upI49qqvgi-4"
      },
      "execution_count": 41,
      "outputs": []
    },
    {
      "cell_type": "code",
      "source": [
        "x_test.shape , y_test.shape"
      ],
      "metadata": {
        "colab": {
          "base_uri": "https://localhost:8080/"
        },
        "id": "w_uineg7gnws",
        "outputId": "b3e76c51-eb46-42d9-d23d-b440a46e2bee"
      },
      "execution_count": 42,
      "outputs": [
        {
          "output_type": "execute_result",
          "data": {
            "text/plain": [
              "((2697, 60, 1), (2697, 1))"
            ]
          },
          "metadata": {},
          "execution_count": 42
        }
      ]
    },
    {
      "cell_type": "code",
      "source": [
        "import numpy as np\n",
        "\n",
        "# Assuming x_test has a shape of (None, 60, 1)\n",
        "desired_shape = (100, 1)\n",
        "\n",
        "# Reshape x_test to match the desired shape\n",
        "x_test_reshaped = np.pad(x_test, ((0, 0), (40, 0), (0, 0)), mode='constant', constant_values=0)\n",
        "# The above line pads the second dimension (60) to match the desired shape (100)\n",
        "\n",
        "predictions = model.predict(x_test_reshaped)\n"
      ],
      "metadata": {
        "colab": {
          "base_uri": "https://localhost:8080/"
        },
        "id": "_niDM7wArwwx",
        "outputId": "80a641ed-ca6a-4e54-f789-ebb91552646c"
      },
      "execution_count": 43,
      "outputs": [
        {
          "output_type": "stream",
          "name": "stdout",
          "text": [
            "85/85 [==============================] - 0s 1ms/step\n"
          ]
        }
      ]
    },
    {
      "cell_type": "code",
      "source": [
        "predictions = model.predict(x_test)"
      ],
      "metadata": {
        "colab": {
          "base_uri": "https://localhost:8080/"
        },
        "id": "7M6nYWSZgq61",
        "outputId": "fc561256-b199-4476-c779-b85caab1a66f"
      },
      "execution_count": 44,
      "outputs": [
        {
          "output_type": "stream",
          "name": "stdout",
          "text": [
            "85/85 [==============================] - 0s 1ms/step\n"
          ]
        }
      ]
    },
    {
      "cell_type": "code",
      "source": [
        "# Assuming predictions has a shape of (batch_size, sequence_length, features)\n",
        "# Reshape predictions to a 2D array\n",
        "predictions_reshaped = predictions.reshape(-1, 1)\n",
        "\n",
        "# Use inverse_transform on the reshaped predictions\n",
        "predictions_inverse = scaler.inverse_transform(predictions_reshaped)\n",
        "\n",
        "# Reshape the predictions back to the original shape if needed\n",
        "predictions_inverse = predictions_inverse.reshape(predictions.shape)\n"
      ],
      "metadata": {
        "id": "ErwfPqx4sjDI"
      },
      "execution_count": 46,
      "outputs": []
    },
    {
      "cell_type": "code",
      "source": [
        "train = dataset.iloc[:train_size , 0:1]\n",
        "test = dataset.iloc[train_size: , 0:1]\n",
        "test['Predictions'] = predictions\n",
        "\n",
        "plt.figure(figsize= (16, 6))\n",
        "plt.title('Gold Price Prediction', fontsize= 18)\n",
        "plt.xlabel('Date', fontsize= 18)\n",
        "plt.ylabel('Gold Price', fontsize= 18)\n",
        "plt.plot(train['Value'], linewidth= 3)\n",
        "plt.plot(test['Value'], linewidth= 3)\n",
        "\n",
        "plt.legend(['Train', 'Test', 'Predictions'])"
      ],
      "metadata": {
        "colab": {
          "base_uri": "https://localhost:8080/",
          "height": 288
        },
        "id": "j6qfXROahGY6",
        "outputId": "f072bddf-367b-4096-ff11-5e7412ea0d70"
      },
      "execution_count": 58,
      "outputs": [
        {
          "output_type": "execute_result",
          "data": {
            "text/plain": [
              "<matplotlib.legend.Legend at 0x79eef98b38b0>"
            ]
          },
          "metadata": {},
          "execution_count": 58
        },
        {
          "output_type": "display_data",
          "data": {
            "text/plain": [
              "<Figure size 1600x600 with 1 Axes>"
            ],
            "image/png": "[encoded data removed]"
          },
          "metadata": {}
        }
      ]
    },
    {
      "cell_type": "code",
      "source": [],
      "metadata": {
        "id": "ygi_txaShQBM"
      },
      "execution_count": 52,
      "outputs": []
    }
  ]
}